{
 "cells": [
  {
   "cell_type": "markdown",
   "id": "b2235ea3",
   "metadata": {},
   "source": [
    "ejercicio de regresion Lineal "
   ]
  },
  {
   "cell_type": "code",
   "execution_count": 1,
   "id": "7b2acdca",
   "metadata": {},
   "outputs": [],
   "source": [
    "import matplotlib.pyplot as plt\n",
    "import statsmodels.api as sm\n",
    "import numpy as np\n",
    "import pandas as pd"
   ]
  },
  {
   "cell_type": "code",
   "execution_count": 2,
   "id": "f9173d0f",
   "metadata": {},
   "outputs": [],
   "source": [
    "df = pd.read_csv('C:/Datos/data.csv')"
   ]
  },
  {
   "cell_type": "code",
   "execution_count": 3,
   "id": "18e9aa3f",
   "metadata": {},
   "outputs": [
    {
     "name": "stdout",
     "output_type": "stream",
     "text": [
      "   metro  precio\n",
      "0      5     375\n",
      "1     15     487\n",
      "2     20      45\n",
      "3     25       5\n"
     ]
    }
   ],
   "source": [
    "print(df.head())"
   ]
  },
  {
   "cell_type": "code",
   "execution_count": 4,
   "id": "4dc447d9",
   "metadata": {},
   "outputs": [],
   "source": [
    "independent_var = df[['metro']]\n",
    "dependent_var = df['precio']"
   ]
  },
  {
   "cell_type": "code",
   "execution_count": 5,
   "id": "3513d21e",
   "metadata": {},
   "outputs": [],
   "source": [
    "independent_var = sm.add_constant(independent_var)"
   ]
  },
  {
   "cell_type": "code",
   "execution_count": 6,
   "id": "cd6f5680",
   "metadata": {},
   "outputs": [],
   "source": [
    "model = sm.OLS(dependent_var, independent_var).fit()"
   ]
  },
  {
   "cell_type": "code",
   "execution_count": 7,
   "id": "1b838bf8",
   "metadata": {},
   "outputs": [],
   "source": [
    "predicted_values = model.predict(independent_var)"
   ]
  },
  {
   "cell_type": "code",
   "execution_count": null,
   "id": "d793e0fb",
   "metadata": {},
   "outputs": [],
   "source": []
  }
 ],
 "metadata": {
  "kernelspec": {
   "display_name": "Python 3 (ipykernel)",
   "language": "python",
   "name": "python3"
  },
  "language_info": {
   "codemirror_mode": {
    "name": "ipython",
    "version": 3
   },
   "file_extension": ".py",
   "mimetype": "text/x-python",
   "name": "python",
   "nbconvert_exporter": "python",
   "pygments_lexer": "ipython3",
   "version": "3.11.4"
  }
 },
 "nbformat": 4,
 "nbformat_minor": 5
}
